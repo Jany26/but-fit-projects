{
 "cells": [
  {
   "cell_type": "markdown",
   "source": [
    "# Test prerekvizitních znalostí Pythonu\n",
    "Na tomto testu byste si měli ověřit, zda chápete základní struktury a konstrukce v jazyku Python. \n",
    "\n",
    "_Odhadovaná doba řešení:_ 10 minut\n",
    "\n",
    "_Odevzdávání:_ tento soubor `test.ipynb` odevzdejte do WISu do úterý 21. září 2021\n",
    "\n",
    "_Dotazy:_ fórum ve WISu, hodnotit bude V. Mrázek"
   ],
   "metadata": {}
  },
  {
   "cell_type": "code",
   "execution_count": null,
   "source": [
    "# test verze jazyka Python\n",
    "import sys\n",
    "print(sys.version)\n",
    "# mela by byt Python 3.8 nebo 3.9"
   ],
   "outputs": [],
   "metadata": {
    "tags": []
   }
  },
  {
   "cell_type": "code",
   "execution_count": null,
   "source": [
    "# TODO: vypište váš login\n",
    "\n",
    "print(\"xmatuf00\")\n",
    "# Ján Maťufka"
   ],
   "outputs": [],
   "metadata": {
    "tags": []
   }
  },
  {
   "cell_type": "markdown",
   "source": [
    "## Část 1: funkce\n",
    "\n",
    "- Napište funci `f1` s proměnným počtem __pozičně nezávislých__ argumentů, která vypíše všechny argumenty ve formátu\n",
    "```\n",
    "param1=hodnota1\n",
    "param2=hodnota2\n",
    "param3=hodnota3\n",
    "param4=hodnota4\n",
    "```"
   ],
   "metadata": {}
  },
  {
   "cell_type": "code",
   "execution_count": null,
   "source": [
    "# Funkce s proměnným počtem argumentů\n",
    "# TODO: napiste funkci f1 \n",
    "\n",
    "def f1(**kwargs):\n",
    "    for i,j in kwargs.items():\n",
    "        print(f\"{i}={j}\")\n",
    "\n",
    "f1(param1=\"hodnota1\", param2=\"hodnota2\", param3=\"hodnota3\", param4=\"hodnota4\")"
   ],
   "outputs": [],
   "metadata": {
    "tags": []
   }
  },
  {
   "cell_type": "markdown",
   "source": [
    "Vytvořte slovník (`dictionary`) v proměnné `dict_values` , který bude obsahovat položky \"param1\" s hodnotou \"value1\", \"param2\" s hodnotou \"value2\" až po \"param30\" s hodnotou \"value30\". Zřejmě k tomu využijete výčet `range`, formátovací řetězce a můžete použít zápis na jeden řádek pomocí tzv _generátorové notace_."
   ],
   "metadata": {}
  },
  {
   "cell_type": "code",
   "execution_count": null,
   "source": [
    "# TODO: vytvořte slovník dict_values (a na konci jej vypište)\n",
    "\n",
    "dict_values = {f\"param{i+1}\" : f\"value{i+1}\" for i in range(30)}\n",
    "dict_values"
   ],
   "outputs": [],
   "metadata": {}
  },
  {
   "cell_type": "markdown",
   "source": [
    "Zavolejte funkci `f1` tak, aby měla parametry c=\"funkce1\", param1=\"value1\", ... (stejně jako předchozí krok). Využijte k tomu slovník `dict_values` z předchozího úkolu."
   ],
   "metadata": {}
  },
  {
   "cell_type": "code",
   "execution_count": null,
   "source": [
    "# TODO: na jednom řádku vyřešte výše uvedené volání\n",
    "\n",
    "f1(c=\"funkce1\", **dict_values)"
   ],
   "outputs": [],
   "metadata": {
    "tags": []
   }
  },
  {
   "cell_type": "markdown",
   "source": [
    "## Část 2: Třídy\n",
    "\n",
    "Vytvořte třídu `Auto`, které má:\n",
    "\n",
    "- incializátor, který vezme argument `vykon` a jeho hodnotu přiřadí do atributu `vykon` nově vzniklé instance\n",
    "- funkci, která zařídí, že když se zadá `print(instance_objektu)`, tak se vypíše řetězec `Auto(vykon=??)`, kde `??` bude nahrazeno hodnotou atributu `vykon`\n",
    "- atribut `vykon`, který bude řízen přes tzv. _getter_ a _setter_ (viz `@property` kontrukce) tak, že\n",
    "  - getter vrátí hodnotu neveřejného atributu `self.__vykon`\n",
    "  - setter změní hodnotu neveřejného atributu `self.__vykon` pouze když je hodnota nezáporná. Jinak vyvolá vyjímku `ValueError` s popisem `Vykon nemuze byt mensi nez 0, bylo zadano ??`."
   ],
   "metadata": {}
  },
  {
   "cell_type": "code",
   "execution_count": null,
   "source": [
    "#TODO: vytvorte tridu\n",
    "\n",
    "class Auto:\n",
    "\n",
    "    def __init__(self, vykon):\n",
    "        self.vykon = vykon\n",
    "\n",
    "    def __repr__(self):\n",
    "        return f\"Auto(vykon={self.vykon})\"\n",
    "\n",
    "    @property\n",
    "    def vykon(self):\n",
    "        return self.__vykon \n",
    "\n",
    "    @vykon.setter\n",
    "    def vykon(self, vykon):\n",
    "        if vykon < 0:\n",
    "            raise ValueError(f\"Vykon nemuze byt mensi nez 0, bylo zadano {vykon}\")\n",
    "        self.__vykon = vykon\n",
    "\n",
    "auto = Auto(vykon=15)\n",
    "auto.vykon = 125\n",
    "print(\"Muj objekt je\", auto)\n"
   ],
   "outputs": [],
   "metadata": {
    "tags": []
   }
  },
  {
   "cell_type": "markdown",
   "source": [
    "Test vyvolání vyjímky - zkusíme natastavit zápornou hodnotu výkonu auta."
   ],
   "metadata": {}
  },
  {
   "cell_type": "code",
   "execution_count": null,
   "source": [
    "auto = Auto(vykon=15)\n",
    "auto.vykon = -100"
   ],
   "outputs": [],
   "metadata": {}
  },
  {
   "cell_type": "markdown",
   "source": [
    "Nyní je vaším úkolem napsat ošetření vyjímky, které při nastavení záporné hodnoty výkonu vypíše chybovou hlášku, kterou převezme z vyjímky (použijte konstrukci `ValueError as e` a vypište i proměnnou `e`)"
   ],
   "metadata": {}
  },
  {
   "cell_type": "code",
   "execution_count": null,
   "source": [
    "# TODO: vytvorte konstrukci zachytavani chyby\n",
    "try:\n",
    "    auto = Auto(vykon=-100)\n",
    "    print(\"Vse probehlo OK\")\n",
    "except ValueError as e:\n",
    "    print(e)"
   ],
   "outputs": [],
   "metadata": {
    "tags": []
   }
  },
  {
   "cell_type": "markdown",
   "source": [
    "## Část 3: Smyčky, pole atd.\n",
    "\n",
    "Vytvoříme data, se kterými budeme pracovat"
   ],
   "metadata": {}
  },
  {
   "cell_type": "code",
   "execution_count": null,
   "source": [
    "data = [\n",
    "    (\"Karel\", \"Procházka\"),\n",
    "    (\"Lucie\", \"Nováková\"),\n",
    "    (\"Přemysl\", \"Oráč\")\n",
    "]"
   ],
   "outputs": [],
   "metadata": {}
  },
  {
   "cell_type": "markdown",
   "source": [
    "Projděte data v cyklu s tím, že vypíšete:\n",
    "```\n",
    "1. Karel Procházka\n",
    "2. Lucie Nováková\n",
    "3. Přemysl Oráč\n",
    "```\n",
    "\n",
    "Použijte jeden cyklus s tím, že budete plnit proměnné `rid`, `jmeno` a `prijmeni` - použijte funkce `enumerate` a rozbalení  (_upacking_)."
   ],
   "metadata": {}
  },
  {
   "cell_type": "code",
   "execution_count": null,
   "source": [
    "#TODO: napiste cyklus\n",
    "for rid, item in enumerate(data):\n",
    "    jmeno, prijmeni = item\n",
    "    print(f\"{rid+1}. {jmeno} {prijmeni}\")"
   ],
   "outputs": [],
   "metadata": {
    "tags": []
   }
  },
  {
   "cell_type": "markdown",
   "source": [
    "A vypište poslední prvek (uvažujte obecný seznam, kde neznáte předem délku)"
   ],
   "metadata": {}
  },
  {
   "cell_type": "code",
   "execution_count": null,
   "source": [
    "#TODO: výpis posledního prvku\n",
    "print(data[-1])"
   ],
   "outputs": [],
   "metadata": {
    "tags": []
   }
  },
  {
   "cell_type": "markdown",
   "source": [
    "Pozor, nepřidávejte další buňky a neměňte buňky s popisem na kód."
   ],
   "metadata": {}
  }
 ],
 "metadata": {
  "interpreter": {
   "hash": "31f2aee4e71d21fbe5cf8b01ff0e069b9275f58929596ceb00d14d90e3e16cd6"
  },
  "kernelspec": {
   "name": "python3",
   "display_name": "Python 3.8.10 64-bit"
  },
  "language_info": {
   "codemirror_mode": {
    "name": "ipython",
    "version": 3
   },
   "file_extension": ".py",
   "mimetype": "text/x-python",
   "name": "python",
   "nbconvert_exporter": "python",
   "pygments_lexer": "ipython3",
   "version": "3.8.10"
  }
 },
 "nbformat": 4,
 "nbformat_minor": 2
}